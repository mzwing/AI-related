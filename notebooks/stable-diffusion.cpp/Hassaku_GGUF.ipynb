{
  "cells": [
    {
      "cell_type": "markdown",
      "metadata": {
        "id": "view-in-github",
        "colab_type": "text"
      },
      "source": [
        "<a href=\"https://colab.research.google.com/github/mzwing/AI-related/blob/master/notebooks/stable-diffusion.cpp/Hassaku_GGUF.ipynb\" target=\"_parent\"><img src=\"https://colab.research.google.com/assets/colab-badge.svg\" alt=\"Open In Colab\"/></a>"
      ]
    },
    {
      "cell_type": "code",
      "execution_count": null,
      "metadata": {
        "id": "jBxcmSgq7Bed"
      },
      "outputs": [],
      "source": [
        "# prepare\n",
        "!rm -rf sample_data\n",
        "!mkdir -p Hassaku-GGUF"
      ]
    },
    {
      "cell_type": "code",
      "source": [
        "!pip install -U --force-reinstall huggingface_hub[hf_transfer]"
      ],
      "metadata": {
        "id": "F2o13DdsPP4Z"
      },
      "execution_count": null,
      "outputs": []
    },
    {
      "cell_type": "code",
      "source": [
        "!huggingface-cli login"
      ],
      "metadata": {
        "id": "p1VDzKHyPSP1"
      },
      "execution_count": null,
      "outputs": []
    },
    {
      "cell_type": "code",
      "execution_count": null,
      "metadata": {
        "id": "_2RBV70CuKN4"
      },
      "outputs": [],
      "source": [
        "# get original model\n",
        "!sudo apt-get install aria2 -y\n",
        "!mkdir -p Hassaku\n",
        "!echo -e \"https://civitai.com/api/download/models/106922?type=Model&format=SafeTensor&size=pruned&fp=fp16\\n out=hassakuHentaiModel_v13.safetensors\\nhttps://civitai.com/api/download/models/62528\\n out=hassakuHentaiModel_v12.safetensors\\nhttps://civitai.com/api/download/models/37521\\n out=hassakuHentaiModel_v11.safetensors\\nhttps://civitai.com/api/download/models/32763\\n out=hassakuHentaiModel_v1m.safetensors\\nhttps://civitai.com/api/download/models/29539\\n out=hassakuHentaiModel_v1.safetensors\\nhttps://civitai.com/api/download/models/30191\\n out=hassakuHentaiModel_v1to13Inpainting.safetensors\" > download.txt\n",
        "!aria2c -c -x16 -d Hassaku --input-file=download.txt\n",
        "!rm -rf download.txt"
      ]
    },
    {
      "cell_type": "code",
      "execution_count": null,
      "metadata": {
        "id": "b2bDPao1jam1"
      },
      "outputs": [],
      "source": [
        "# get compile result (CPU)\n",
        "!aria2c -c -x16 https://github.com/MZWNET/actions/releases/download/sd-master-583cc5b/sd-master-583cc5b-bin-linux-avx2-openblas-x64.zip\n",
        "!unzip sd-master-583cc5b-bin-linux-avx2-openblas-x64.zip -d .\n",
        "!rm -rf sd-master-583cc5b-bin-linux-avx2-openblas-x64.zip"
      ]
    },
    {
      "cell_type": "code",
      "execution_count": null,
      "metadata": {
        "id": "1QLXZbjO6Hde"
      },
      "outputs": [],
      "source": [
        "# prepare for GPU\n",
        "!sudo apt-get install nvidia-cuda-toolkit -y"
      ]
    },
    {
      "cell_type": "code",
      "execution_count": null,
      "metadata": {
        "id": "NVboRtai6Kgx"
      },
      "outputs": [],
      "source": [
        "# get compile result (GPU)\n",
        "!aria2c -c -x16 https://github.com/MZWNET/actions/releases/download/sd-master-583cc5b/sd-master-583cc5b-bin-linux-avx2-cublas-cu121-x64.zip\n",
        "!unzip sd-master-583cc5b-bin-linux-avx2-cublas-cu121-x64.zip -d .\n",
        "!rm -rf sd-master-583cc5b-bin-linux-avx2-cublas-cu121-x64.zip"
      ]
    },
    {
      "cell_type": "code",
      "execution_count": null,
      "metadata": {
        "id": "7AdSBJlEPNyo"
      },
      "outputs": [],
      "source": [
        "# quantize\n",
        "import concurrent.futures\n",
        "import os\n",
        "from tqdm import tqdm\n",
        "\n",
        "parameters = [ \"f16\", \"q8_0\", \"q5_1\", \"q5_0\", \"q4_1\", \"q4_0\" ]\n",
        "models = [ \"hassakuHentaiModel_v13.safetensors\", \"hassakuHentaiModel_v12.safetensors\", \"hassakuHentaiModel_v11.safetensors\", \"hassakuHentaiModel_v11m.safetensors\", \"hassakuHentaiModel_v1.safetensors\", \"hassakuHentaiModel_v1to13Inpainting.safetensors\" ]\n",
        "\n",
        "tasks = [(model, param) for model in models for param in parameters]\n",
        "\n",
        "def run_command(task):\n",
        "    model, param = task\n",
        "    model_name = model.split('.')[0]\n",
        "    os.system(f\"./sd -M convert -m Hassaku/{model} -o Hassaku-GGUF/{model_name}.{param}.gguf --type {param}\")\n",
        "\n",
        "with concurrent.futures.ThreadPoolExecutor(max_workers=4) as executor:\n",
        "    list(tqdm(executor.map(run_command, tasks), total=len(tasks)))"
      ]
    },
    {
      "cell_type": "code",
      "execution_count": null,
      "metadata": {
        "id": "aMbY6etBWH0c"
      },
      "outputs": [],
      "source": [
        "# test\n",
        "!./sd -m Hassaku-GGUF/hassakuHentaiModel_v11.q4_0.gguf -p \"1girl, extremely beautiful, miniskirt\" -s -1 -v -o test.png"
      ]
    },
    {
      "cell_type": "code",
      "execution_count": null,
      "metadata": {
        "id": "JyxqF66WEUqx"
      },
      "outputs": [],
      "source": [
        "!HF_HUB_ENABLE_HF_TRANSFER=1 huggingface-cli upload --repo-type model --commit-message \"GGUF model commit (made with stable-diffusion.cpp commit 583cc5b)\" Hassaku-GGUF ./Hassaku-GGUF"
      ]
    }
  ],
  "metadata": {
    "colab": {
      "provenance": [],
      "include_colab_link": true
    },
    "kernelspec": {
      "display_name": "Python 3",
      "name": "python3"
    },
    "language_info": {
      "name": "python"
    }
  },
  "nbformat": 4,
  "nbformat_minor": 0
}