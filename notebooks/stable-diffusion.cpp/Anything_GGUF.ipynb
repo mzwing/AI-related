{
  "cells": [
    {
      "cell_type": "markdown",
      "metadata": {
        "id": "view-in-github",
        "colab_type": "text"
      },
      "source": [
        "<a href=\"https://colab.research.google.com/github/mzwing/AI-related/blob/master/notebooks/stable-diffusion.cpp/Anything_GGUF.ipynb\" target=\"_parent\"><img src=\"https://colab.research.google.com/assets/colab-badge.svg\" alt=\"Open In Colab\"/></a>"
      ]
    },
    {
      "cell_type": "code",
      "execution_count": 1,
      "metadata": {
        "id": "jBxcmSgq7Bed"
      },
      "outputs": [],
      "source": [
        "# prepare\n",
        "!rm -rf sample_data\n",
        "!mkdir -p Anything-GGUF"
      ]
    },
    {
      "cell_type": "code",
      "execution_count": null,
      "metadata": {
        "id": "_2RBV70CuKN4"
      },
      "outputs": [],
      "source": [
        "# get original model\n",
        "!sudo apt-get install aria2 -y\n",
        "!mkdir -p Anything\n",
        "!echo -e \"https://civitai.com/api/download/models/11164\\n out=anything_v10.ckpt\\nhttps://civitai.com/api/download/models/47248\\n out=anything_v21.safetensors\\nhttps://civitai.com/api/download/models/34373\\n out=anything_v30.ckpt\\nhttps://civitai.com/api/download/models/30163\\n out=anything_v50.safetensors\\nhttps://civitai.com/api/download/models/90854?type=Model&format=SafeTensor&size=full&fp=fp16\\n out=anything_inkBase.safetensors\" > download.txt\n",
        "!aria2c -c -x16 -d Anything --input-file=download.txt\n",
        "!rm -rf download.txt"
      ]
    },
    {
      "cell_type": "code",
      "execution_count": null,
      "metadata": {
        "id": "b2bDPao1jam1"
      },
      "outputs": [],
      "source": [
        "# get compile result (CPU)\n",
        "!aria2c -c -x16 https://github.com/MZWNET/actions/releases/download/sd-master-583cc5b/sd-master-583cc5b-bin-linux-avx2-openblas-x64.zip\n",
        "!unzip sd-master-583cc5b-bin-linux-avx2-openblas-x64.zip -d .\n",
        "!rm -rf sd-master-583cc5b-bin-linux-avx2-openblas-x64.zip"
      ]
    },
    {
      "cell_type": "code",
      "execution_count": null,
      "metadata": {
        "id": "1QLXZbjO6Hde"
      },
      "outputs": [],
      "source": [
        "# prepare for GPU\n",
        "!sudo apt-get install nvidia-cuda-toolkit -y"
      ]
    },
    {
      "cell_type": "code",
      "execution_count": null,
      "metadata": {
        "id": "NVboRtai6Kgx"
      },
      "outputs": [],
      "source": [
        "# get compile result (GPU)\n",
        "!aria2c -c -x16 https://github.com/MZWNET/actions/releases/download/sd-master-583cc5b/sd-master-583cc5b-bin-linux-avx2-cublas-cu121-x64.zip\n",
        "!unzip sd-master-583cc5b-bin-linux-avx2-cublas-cu121-x64.zip -d .\n",
        "!rm -rf sd-master-583cc5b-bin-linux-avx2-cublas-cu121-x64.zip"
      ]
    },
    {
      "cell_type": "code",
      "execution_count": null,
      "metadata": {
        "id": "7AdSBJlEPNyo"
      },
      "outputs": [],
      "source": [
        "# quantize\n",
        "import concurrent.futures\n",
        "import os\n",
        "from tqdm import tqdm\n",
        "\n",
        "parameters = [ \"f32\", \"f16\", \"q8_0\", \"q5_1\", \"q5_0\", \"q4_1\", \"q4_0\" ]\n",
        "models = [ \"anything_v10.ckpt\", \"anything_v21.safetensors\", \"anything_v30.ckpt\", \"anything_v50.safetensors\", \"anything_inkBase.safetensors\" ]\n",
        "\n",
        "tasks = [(model, param) for model in models for param in parameters]\n",
        "\n",
        "def run_command(task):\n",
        "    model, param = task\n",
        "    model_name = model.split('.')[0]\n",
        "    os.system(f\"./sd -M convert -m Anything/{model} -o Anything-GGUF/{model_name}.{param}.gguf --type {param}\")\n",
        "\n",
        "with concurrent.futures.ThreadPoolExecutor(max_workers=4) as executor:\n",
        "    list(tqdm(executor.map(run_command, tasks), total=len(tasks)))"
      ]
    },
    {
      "cell_type": "code",
      "execution_count": null,
      "metadata": {
        "id": "aMbY6etBWH0c"
      },
      "outputs": [],
      "source": [
        "# test\n",
        "!./sd -m Anything-GGUF/anything_v21.f16.gguf -p \"Self-portrait oil painting, a beautiful cyborg with golden hair, 8k\" -s -1 -v -o test.png"
      ]
    },
    {
      "cell_type": "code",
      "execution_count": null,
      "metadata": {
        "id": "JyxqF66WEUqx"
      },
      "outputs": [],
      "source": [
        "!pip install -U --force-reinstall huggingface_hub[hf_transfer]\n",
        "!huggingface-cli login\n",
        "!HF_HUB_ENABLE_HF_TRANSFER=1 huggingface-cli upload --repo-type model --commit-message \"GGUF model commit (made with stable-diffusion.cpp commit 583cc5b)\" Anything-GGUF ./Anything-GGUF"
      ]
    }
  ],
  "metadata": {
    "colab": {
      "provenance": [],
      "gpuType": "T4",
      "include_colab_link": true
    },
    "kernelspec": {
      "display_name": "Python 3",
      "name": "python3"
    },
    "language_info": {
      "name": "python"
    },
    "accelerator": "GPU"
  },
  "nbformat": 4,
  "nbformat_minor": 0
}