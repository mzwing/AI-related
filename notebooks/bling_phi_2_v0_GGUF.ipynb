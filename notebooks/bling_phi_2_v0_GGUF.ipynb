{
  "cells": [
    {
      "cell_type": "markdown",
      "metadata": {
        "id": "view-in-github",
        "colab_type": "text"
      },
      "source": [
        "<a href=\"https://colab.research.google.com/github/mzwing/AI-related/blob/master/notebooks/bling_phi_2_v0_GGUF.ipynb\" target=\"_parent\"><img src=\"https://colab.research.google.com/assets/colab-badge.svg\" alt=\"Open In Colab\"/></a>"
      ]
    },
    {
      "cell_type": "code",
      "source": [
        "# prepare\n",
        "!rm -rf sample_data\n",
        "!mkdir -p bling-phi-2-v0-GGUF"
      ],
      "metadata": {
        "id": "jBxcmSgq7Bed"
      },
      "execution_count": null,
      "outputs": []
    },
    {
      "cell_type": "code",
      "source": [
        "# get original model\n",
        "!sudo apt-get install aria2 -y\n",
        "!GIT_LFS_SKIP_SMUDGE=1 git clone https://huggingface.co/llmware/bling-phi-2-v0 --depth 1\n",
        "!cd bling-phi-2-v0 && rm -rf pytorch_model.bin .git\n",
        "\n",
        "!aria2c -c -x16 -d bling-phi-2-v0 https://huggingface.co/llmware/bling-phi-2-v0/resolve/main/pytorch_model.bin?download=true -o pytorch_model.bin"
      ],
      "metadata": {
        "id": "_2RBV70CuKN4"
      },
      "execution_count": null,
      "outputs": []
    },
    {
      "cell_type": "code",
      "source": [
        "# prepare for llama.cpp quantise\n",
        "!pip3 install sentencepiece gguf\n",
        "!mkdir -p bling-phi-2-v0\n",
        "\n",
        "# see this: https://huggingface.co/kroonen/phi-2-GGUF/discussions/1\n",
        "!git clone https://github.com/ebeyabraham/llama.cpp --depth 1"
      ],
      "metadata": {
        "id": "8BKYAQ4RKklg"
      },
      "execution_count": null,
      "outputs": []
    },
    {
      "cell_type": "code",
      "source": [
        "# convert to fp32\n",
        "!cd llama.cpp && python3 ./convert-hf-to-gguf.py --outtype f32 --outfile ../bling-phi-2-v0-GGUF/bling-phi-2-v0.F32.gguf ../bling-phi-2-v0/"
      ],
      "metadata": {
        "id": "6EBo9BBRueMq"
      },
      "execution_count": null,
      "outputs": []
    },
    {
      "cell_type": "code",
      "execution_count": null,
      "metadata": {
        "id": "DISoQb2bgA5c"
      },
      "outputs": [],
      "source": [
        "# convert to fp16\n",
        "!cd llama.cpp && python3 ./convert-hf-to-gguf.py --outtype f16 --outfile ../bling-phi-2-v0-GGUF/bling-phi-2-v0.F16.gguf ../bling-phi-2-v0/"
      ]
    },
    {
      "cell_type": "code",
      "source": [
        "# uninstall to save space\n",
        "!pip3 uninstall sentencepiece gguf -y\n",
        "!pip cache purge\n",
        "!rm -rf bling-phi-2-v0 llama.cpp"
      ],
      "metadata": {
        "id": "lmSurz1377Ye"
      },
      "execution_count": null,
      "outputs": []
    },
    {
      "cell_type": "code",
      "source": [
        "# prepare for CPU\n",
        "!wget -O- https://apt.repos.intel.com/intel-gpg-keys/GPG-PUB-KEY-INTEL-SW-PRODUCTS.PUB | gpg --dearmor | sudo tee /usr/share/keyrings/oneapi-archive-keyring.gpg > /dev/null\n",
        "!echo \"deb [signed-by=/usr/share/keyrings/oneapi-archive-keyring.gpg] https://apt.repos.intel.com/oneapi all main\" | sudo tee /etc/apt/sources.list.d/oneAPI.list\n",
        "!sudo apt-get update\n",
        "!sudo apt-get upgrade -y\n",
        "!sudo apt-get install intel-oneapi-mkl -y"
      ],
      "metadata": {
        "id": "aXF9nZXV5vv1"
      },
      "execution_count": null,
      "outputs": []
    },
    {
      "cell_type": "code",
      "execution_count": null,
      "metadata": {
        "id": "YGuBieGbnlRT"
      },
      "outputs": [],
      "source": [
        "# compile (CPU)\n",
        "!sudo apt-get install ccache intel-basekit intel-oneapi-mkl-devel -y\n",
        "\n",
        "!cd llama.cpp && mkdir build && cd build && source /opt/intel/oneapi/setvars.sh && cmake .. -DLLAMA_BLAS=ON -DLLAMA_BLAS_VENDOR=Intel10_64_dyn -DCMAKE_C_COMPILER=icx -DCMAKE_CXX_COMPILER=icpx -DLLAMA_NATIVE=ON -DLLAMA_AVX2=ON && cmake --build . --config Release\n",
        "!cp llama.cpp/build/bin/quantize ./\n",
        "!cp llama.cpp/build/bin/main ./\n",
        "\n",
        "# store\n",
        "!mkdir -p /content/drive\n",
        "\n",
        "from google.colab import drive\n",
        "drive.mount('/content/drive', force_remount=True)\n",
        "\n",
        "!mkdir /content/drive/MyDrive/llama.cpp-cache/intel-mkl/\n",
        "!cp quantize /content/drive/MyDrive/llama.cpp-cache/intel-mkl/\n",
        "!cp main /content/drive/MyDrive/llama.cpp-cache/intel-mkl/\n",
        "\n",
        "drive.flush_and_unmount()"
      ]
    },
    {
      "cell_type": "code",
      "execution_count": null,
      "metadata": {
        "id": "b2bDPao1jam1"
      },
      "outputs": [],
      "source": [
        "# get compile result (CPU)\n",
        "!mkdir -p /content/drive\n",
        "\n",
        "from google.colab import drive\n",
        "drive.mount('/content/drive', force_remount=True)\n",
        "\n",
        "!cp /content/drive/MyDrive/llama.cpp-cache/intel-mkl/quantize ./\n",
        "!cp /content/drive/MyDrive/llama.cpp-cache/intel-mkl/main ./\n",
        "\n",
        "drive.flush_and_unmount()\n",
        "\n",
        "!chmod +x quantize\n",
        "!chmod +x main"
      ]
    },
    {
      "cell_type": "code",
      "source": [
        "# prepare for GPU\n",
        "!sudo apt-get install nvidia-cuda-toolkit -y"
      ],
      "metadata": {
        "id": "1QLXZbjO6Hde"
      },
      "execution_count": null,
      "outputs": []
    },
    {
      "cell_type": "code",
      "source": [
        "# compile (GPU)\n",
        "!sudo apt-get install ccache -y\n",
        "\n",
        "!cd llama.cpp && mkdir build && cd build && cmake .. -DLLAMA_CUBLAS=ON -DLLAMA_AVX2=ON && cmake --build . --config Release\n",
        "!cp llama.cpp/build/bin/quantize ./\n",
        "!cp llama.cpp/build/bin/main ./\n",
        "\n",
        "# store\n",
        "!mkdir -p /content/drive\n",
        "\n",
        "from google.colab import drive\n",
        "drive.mount('/content/drive', force_remount=True)\n",
        "\n",
        "!mkdir /content/drive/MyDrive/llama.cpp-cache/cuda/\n",
        "!cp quantize /content/drive/MyDrive/llama.cpp-cache/cuda/\n",
        "!cp main /content/drive/MyDrive/llama.cpp-cache/cuda/\n",
        "\n",
        "drive.flush_and_unmount()"
      ],
      "metadata": {
        "id": "8YioUk-M6IE5"
      },
      "execution_count": null,
      "outputs": []
    },
    {
      "cell_type": "code",
      "source": [
        "# get compile result (GPU)\n",
        "!mkdir -p /content/drive\n",
        "\n",
        "from google.colab import drive\n",
        "drive.mount('/content/drive', force_remount=True)\n",
        "\n",
        "!cp /content/drive/MyDrive/llama.cpp-cache/cuda/quantize ./\n",
        "!cp /content/drive/MyDrive/llama.cpp-cache/cuda/main ./\n",
        "\n",
        "drive.flush_and_unmount()\n",
        "\n",
        "!chmod +x quantize\n",
        "!chmod +x main"
      ],
      "metadata": {
        "id": "NVboRtai6Kgx"
      },
      "execution_count": null,
      "outputs": []
    },
    {
      "cell_type": "code",
      "execution_count": null,
      "metadata": {
        "id": "7AdSBJlEPNyo"
      },
      "outputs": [],
      "source": [
        "# quantize\n",
        "import concurrent.futures\n",
        "import os\n",
        "from tqdm import tqdm\n",
        "\n",
        "parameters = [ \"Q8_0\", \"Q6_K\", \"Q5_K_M\", \"Q5_K_S\", \"Q5_0\", \"Q4_K_M\", \"Q4_K_S\", \"Q4_0\", \"Q3_K_L\", \"Q3_K_M\", \"Q3_K_S\", \"Q2_K\" ]\n",
        "\n",
        "def run_command(param):\n",
        "    os.system(f\"cd bling-phi-2-v0-GGUF/ && ../quantize bling-phi-2-v0.F16.gguf bling-phi-2-v0.{param}.gguf {param}\")\n",
        "\n",
        "with concurrent.futures.ThreadPoolExecutor(max_workers=12) as executor:\n",
        "    list(tqdm(executor.map(run_command, parameters), total=len(parameters)))"
      ]
    },
    {
      "cell_type": "code",
      "source": [
        "# http upload\n",
        "import concurrent.futures\n",
        "from huggingface_hub import HfApi, create_repo\n",
        "\n",
        "# create repo\n",
        "create_repo(\"mzwing/bling-phi-2-v0-GGUF\")\n",
        "\n",
        "api = HfApi()\n",
        "\n",
        "parameters = [ \"F32\", \"F16\", \"Q8_0\", \"Q6_K\", \"Q5_K_M\", \"Q5_K_S\", \"Q5_0\", \"Q4_K_M\", \"Q4_K_S\", \"Q4_0\", \"Q3_K_L\", \"Q3_K_M\", \"Q3_K_S\", \"Q2_K\" ]\n",
        "\n",
        "def upload(params):\n",
        "    api.upload_file(\n",
        "        path_or_fileobj=f\"bling-phi-2-v0-GGUF/bling-phi-2-v0.{params}.gguf\",\n",
        "        path_in_repo=f\"bling-phi-2-v0.{params}.gguf\",\n",
        "        repo_id=\"mzwing/bling-phi-2-v0-GGUF\",\n",
        "    )\n",
        "\n",
        "with concurrent.futures.ThreadPoolExecutor(max_workers=4) as executor:\n",
        "    # Directly consume the iterator to ensure all futures are executed\n",
        "    list(executor.map(upload, parameters))"
      ],
      "metadata": {
        "id": "MY3wgOV464o3"
      },
      "execution_count": null,
      "outputs": []
    },
    {
      "cell_type": "code",
      "source": [
        "# test\n",
        "!./main -ngl 33 -m bling-phi-2-v0-GGUF/bling-phi-2-v0-GGUF.Q2_K.gguf --color --temp 0.7 --repeat_penalty 1.1 -n -1 -p \"System: A chat between a curious human and an artificial intelligence assistant. The assistant gives helpful, detailed, and polite answers to the human's questions.\\nHuman: {prompt}\\nAssistant:\"\n",
        "!rm -rf main.log"
      ],
      "metadata": {
        "id": "0ACGMjAC6aki"
      },
      "execution_count": null,
      "outputs": []
    },
    {
      "cell_type": "code",
      "source": [
        "# git merge history\n",
        "!git config --global credential.helper store\n",
        "!huggingface-cli login\n",
        "!git config --global user.email 'mzwing@mzwing.eu.org'\n",
        "!git config --global user.name 'mzwing'\n",
        "!rm -rf bling-phi-2-v0-GGUF/\n",
        "!GIT_LFS_SKIP_SMUDGE=1 git clone https://huggingface.co/mzwing/bling-phi-2-v0-GGUF\n",
        "!cd bling-phi-2-v0-GGUF && git lfs install\n",
        "!huggingface-cli lfs-enable-largefiles bling-phi-2-v0-GGUF/\n",
        "!cd bling-phi-2-v0-GGUF/ && git branch backup-main\n",
        "!cd bling-phi-2-v0-GGUF/ && git checkout --orphan new-main\n",
        "!cd bling-phi-2-v0-GGUF/ && git add -A\n",
        "!cd bling-phi-2-v0-GGUF/ && git commit -m \"GGUF model commit (made with llama.cpp commit 26d6076)\"\n",
        "!cd bling-phi-2-v0-GGUF/ && git branch -D main\n",
        "!cd bling-phi-2-v0-GGUF/ && git branch -m main\n",
        "!cd bling-phi-2-v0-GGUF/ && git push -f origin main"
      ],
      "metadata": {
        "id": "lMPDqJ56PfLH"
      },
      "execution_count": null,
      "outputs": []
    }
  ],
  "metadata": {
    "colab": {
      "provenance": [],
      "include_colab_link": true
    },
    "kernelspec": {
      "display_name": "Python 3",
      "name": "python3"
    },
    "language_info": {
      "name": "python"
    }
  },
  "nbformat": 4,
  "nbformat_minor": 0
}