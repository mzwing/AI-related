{
  "cells": [
    {
      "cell_type": "markdown",
      "metadata": {
        "id": "view-in-github",
        "colab_type": "text"
      },
      "source": [
        "<a href=\"https://colab.research.google.com/github/mzwing/AI-related/blob/master/notebooks/deepseek_math_7b_rl_GGUF.ipynb\" target=\"_parent\"><img src=\"https://colab.research.google.com/assets/colab-badge.svg\" alt=\"Open In Colab\"/></a>"
      ]
    },
    {
      "cell_type": "code",
      "source": [
        "!pip install -U --force-reinstall huggingface_hub[hf_transfer]"
      ],
      "metadata": {
        "id": "mImqw3hckjrI"
      },
      "execution_count": null,
      "outputs": []
    },
    {
      "cell_type": "code",
      "execution_count": 1,
      "metadata": {
        "id": "jBxcmSgq7Bed"
      },
      "outputs": [],
      "source": [
        "# prepare\n",
        "!rm -rf sample_data\n",
        "!mkdir -p deepseek-math-7b-rl-GGUF"
      ]
    },
    {
      "cell_type": "code",
      "execution_count": null,
      "metadata": {
        "id": "_2RBV70CuKN4"
      },
      "outputs": [],
      "source": [
        "# get original model\n",
        "!sudo apt-get install aria2 -y\n",
        "!GIT_LFS_SKIP_SMUDGE=1 git clone https://huggingface.co/deepseek-ai/deepseek-math-7b-rl --depth 1\n",
        "!cd deepseek-math-7b-rl && rm -rf pytorch_model-00001-of-000002.bin pytorch_model-00002-of-000002.bin pytorch_model.bin.index.json .git\n",
        "\n",
        "!echo -e \"https://huggingface.co/deepseek-ai/deepseek-math-7b-rl/resolve/main/model-00001-of-000002.safetensors?download=true\\n out=model-00001-of-000002.safetensors\\nhttps://huggingface.co/deepseek-ai/deepseek-math-7b-rl/resolve/main/model-00002-of-000002.safetensors?download=true\\n out=model-00002-of-000002.safetensors\" > download.txt\n",
        "!aria2c -c -x16 -d deepseek-math-7b-rl --input-file=download.txt\n",
        "\n",
        "!rm -rf download.txt"
      ]
    },
    {
      "cell_type": "code",
      "execution_count": null,
      "metadata": {
        "id": "8BKYAQ4RKklg"
      },
      "outputs": [],
      "source": [
        "# prepare for llama.cpp quantise\n",
        "!pip3 install sentencepiece gguf\n",
        "!mkdir -p deepseek-math-7b-rl\n",
        "\n",
        "!git clone https://github.com/ggerganov/llama.cpp -b ceb/fix-convert-bpe-hf --depth 1"
      ]
    },
    {
      "cell_type": "code",
      "source": [
        "# convert to fp32\n",
        "!cd llama.cpp && python3 ./convert.py --outtype f32 --outfile ../deepseek-math-7b-rl-GGUF/deepseek-math-7b-rl.F32.gguf --ctx 4096 ../deepseek-math-7b-rl/ --pad-vocab"
      ],
      "metadata": {
        "id": "rBilb6sddiF3"
      },
      "execution_count": null,
      "outputs": []
    },
    {
      "cell_type": "code",
      "source": [
        "# convert to fp16\n",
        "!cd llama.cpp && python3 ./convert.py --outtype f16 --outfile ../deepseek-math-7b-rl-GGUF/deepseek-math-7b-rl.F16.gguf --ctx 4096 ../deepseek-math-7b-rl/ --vocab-type bpe --pad-vocab"
      ],
      "metadata": {
        "id": "Q5kavDoUinor"
      },
      "execution_count": null,
      "outputs": []
    },
    {
      "cell_type": "code",
      "execution_count": null,
      "metadata": {
        "id": "lmSurz1377Ye"
      },
      "outputs": [],
      "source": [
        "# uninstall to save space\n",
        "!pip3 uninstall sentencepiece gguf -y\n",
        "!pip cache purge\n",
        "!rm -rf deepseek-math-7b-rl llama.cpp"
      ]
    },
    {
      "cell_type": "code",
      "execution_count": null,
      "metadata": {
        "id": "aXF9nZXV5vv1"
      },
      "outputs": [],
      "source": [
        "# prepare for CPU\n",
        "!wget -O- https://apt.repos.intel.com/intel-gpg-keys/GPG-PUB-KEY-INTEL-SW-PRODUCTS.PUB | gpg --dearmor | sudo tee /usr/share/keyrings/oneapi-archive-keyring.gpg > /dev/null\n",
        "!echo \"deb [signed-by=/usr/share/keyrings/oneapi-archive-keyring.gpg] https://apt.repos.intel.com/oneapi all main\" | sudo tee /etc/apt/sources.list.d/oneAPI.list\n",
        "!sudo apt-get update\n",
        "!sudo apt-get install intel-oneapi-mkl -y"
      ]
    },
    {
      "cell_type": "code",
      "execution_count": null,
      "metadata": {
        "id": "b2bDPao1jam1"
      },
      "outputs": [],
      "source": [
        "# get compile result (CPU)\n",
        "!aria2c -c -x16 https://github.com/MZWNET/actions/releases/download/llama_cpp-b2554/llama-b2554-bin-linux-avx2-intel-mkl-x64.zip\n",
        "!mkdir -p llama.cpp-bin\n",
        "!unzip llama-b2554-bin-linux-avx2-intel-mkl-x64.zip -d llama.cpp-bin\n",
        "!mv -f llama.cpp-bin/main .\n",
        "!mv -f llama.cpp-bin/quantize .\n",
        "!rm -rf llama.cpp-bin llama-b2554-bin-linux-avx2-intel-mkl-x64.zip"
      ]
    },
    {
      "cell_type": "code",
      "execution_count": null,
      "metadata": {
        "id": "1QLXZbjO6Hde"
      },
      "outputs": [],
      "source": [
        "# prepare for GPU\n",
        "!sudo apt-get install nvidia-cuda-toolkit -y"
      ]
    },
    {
      "cell_type": "code",
      "execution_count": null,
      "metadata": {
        "id": "NVboRtai6Kgx"
      },
      "outputs": [],
      "source": [
        "# get compile result (GPU)\n",
        "!aria2c -c -x16 https://github.com/MZWNET/actions/releases/download/llama_cpp-b2554/llama-b2554-bin-linux-avx2-cublas-cu121-x64.zip\n",
        "!mkdir -p llama.cpp-bin\n",
        "!unzip llama-b2554-bin-linux-avx2-cublas-cu121-x64.zip -d llama.cpp-bin\n",
        "!mv -f llama.cpp-bin/main .\n",
        "!mv -f llama.cpp-bin/quantize .\n",
        "!rm -rf llama.cpp-bin llama-b2554-bin-linux-avx2-cublas-cu121-x64.zip"
      ]
    },
    {
      "cell_type": "code",
      "execution_count": null,
      "metadata": {
        "id": "7AdSBJlEPNyo"
      },
      "outputs": [],
      "source": [
        "# quantize\n",
        "import concurrent.futures\n",
        "import os\n",
        "from tqdm import tqdm\n",
        "\n",
        "parameters = [ \"Q8_0\", \"Q6_K\", \"Q5_K_M\", \"Q5_K_S\", \"Q5_0\", \"Q4_K_M\", \"Q4_K_S\", \"Q4_0\", \"Q3_K_L\", \"Q3_K_M\", \"Q3_K_S\", \"Q2_K\" ]\n",
        "\n",
        "def run_command(param):\n",
        "    os.system(f\"cd deepseek-math-7b-rl-GGUF/ && ../quantize deepseek-math-7b-rl.F16.gguf deepseek-math-7b-rl.{param}.gguf {param}\")\n",
        "\n",
        "with concurrent.futures.ThreadPoolExecutor(max_workers=5) as executor:\n",
        "    list(tqdm(executor.map(run_command, parameters), total=len(parameters)))"
      ]
    },
    {
      "cell_type": "code",
      "source": [
        "!huggingface-cli login\n",
        "!HF_HUB_ENABLE_HF_TRANSFER=1 huggingface-cli upload --repo-type model --commit-message \"GGUF model commit (made with llama.cpp release b2554)\" deepseek-math-7b-rl-GGUF ./deepseek-math-7b-rl-GGUF"
      ],
      "metadata": {
        "id": "Ube0avm_RSkP"
      },
      "execution_count": null,
      "outputs": []
    },
    {
      "cell_type": "code",
      "execution_count": null,
      "metadata": {
        "id": "0ACGMjAC6aki"
      },
      "outputs": [],
      "source": [
        "# test\n",
        "!./main -ngl 25 -m deepseek-math-7b-rl-GGUF/deepseek-math-7b-rl.F16.gguf --color --temp 0.7 --repeat_penalty 1.1 -n -1 -p \"System: A chat between a curious human and an artificial intelligence assistant. The assistant gives helpful, detailed, and polite answers to the human's questions.\\nHuman: {prompt}\\nAssistant:Hi! What can I help you?\\nHuman: \"\n",
        "!rm -rf main.log"
      ]
    }
  ],
  "metadata": {
    "colab": {
      "provenance": [],
      "include_colab_link": true
    },
    "kernelspec": {
      "display_name": "Python 3",
      "name": "python3"
    },
    "language_info": {
      "name": "python"
    }
  },
  "nbformat": 4,
  "nbformat_minor": 0
}