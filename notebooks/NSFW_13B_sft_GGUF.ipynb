{
  "cells": [
    {
      "cell_type": "markdown",
      "metadata": {
        "id": "view-in-github",
        "colab_type": "text"
      },
      "source": [
        "<a href=\"https://colab.research.google.com/github/mzwing/AI-related/blob/master/notebooks/NSFW_13B_sft_GGUF.ipynb\" target=\"_parent\"><img src=\"https://colab.research.google.com/assets/colab-badge.svg\" alt=\"Open In Colab\"/></a>"
      ]
    },
    {
      "cell_type": "code",
      "execution_count": 1,
      "metadata": {
        "id": "jBxcmSgq7Bed"
      },
      "outputs": [],
      "source": [
        "# prepare\n",
        "!rm -rf sample_data\n",
        "!mkdir -p NSFW_13B_sft-GGUF"
      ]
    },
    {
      "cell_type": "code",
      "execution_count": null,
      "metadata": {
        "id": "_2RBV70CuKN4"
      },
      "outputs": [],
      "source": [
        "# get original model\n",
        "!sudo apt-get install aria2 -y\n",
        "!GIT_LFS_SKIP_SMUDGE=1 git clone https://huggingface.co/zxbsmk/NSFW_13B_sft --depth 1\n",
        "!cd NSFW_13B_sft && rm -rf pytorch_model-00001-of-00003.bin pytorch_model-00002-of-00003.bin pytorch_model-00003-of-00003.bin tokenizer.model .git\n",
        "\n",
        "!echo -e \"https://huggingface.co/zxbsmk/NSFW_13B_sft/resolve/main/pytorch_model-00001-of-00003.bin?download=true\\n out=pytorch_model-00001-of-00003.bin\\nhttps://huggingface.co/zxbsmk/NSFW_13B_sft/resolve/main/pytorch_model-00002-of-00003.bin?download=true\\n out=pytorch_model-00002-of-00003.bin\\nhttps://huggingface.co/zxbsmk/NSFW_13B_sft/resolve/main/pytorch_model-00003-of-00003.bin?download=true\\n out=pytorch_model-00003-of-00003.bin\\nhttps://huggingface.co/zxbsmk/NSFW_13B_sft/resolve/main/tokenizer.model?download=true\\n out=tokenizer.model\" > download.txt\n",
        "!aria2c -c -x16 -d NSFW_13B_sft --input-file=download.txt\n",
        "\n",
        "!rm -rf download.txt"
      ]
    },
    {
      "cell_type": "code",
      "execution_count": null,
      "metadata": {
        "id": "8BKYAQ4RKklg"
      },
      "outputs": [],
      "source": [
        "# prepare for llama.cpp quantise\n",
        "!pip3 install sentencepiece gguf\n",
        "!mkdir -p NSFW_13B_sft\n",
        "\n",
        "!git clone https://github.com/ggerganov/llama.cpp --depth 1"
      ]
    },
    {
      "cell_type": "code",
      "execution_count": null,
      "metadata": {
        "colab": {
          "background_save": true
        },
        "id": "jAJH23gLVVfY"
      },
      "outputs": [],
      "source": [
        "# convert to fp32\n",
        "!cd llama.cpp && python3 ./convert-hf-to-gguf.py --outtype f32 --outfile ../NSFW_13B_sft-GGUF/NSFW_13B_sft.F32.gguf ../NSFW_13B_sft/"
      ]
    },
    {
      "cell_type": "code",
      "execution_count": null,
      "metadata": {
        "id": "DISoQb2bgA5c"
      },
      "outputs": [],
      "source": [
        "# convert to fp16\n",
        "!cd llama.cpp && python3 ./convert-hf-to-gguf.py --outtype f16 --outfile ../NSFW_13B_sft-GGUF/NSFW_13B_sft.F16.gguf ../NSFW_13B_sft/"
      ]
    },
    {
      "cell_type": "code",
      "execution_count": null,
      "metadata": {
        "id": "lmSurz1377Ye"
      },
      "outputs": [],
      "source": [
        "# uninstall to save space\n",
        "!pip3 uninstall sentencepiece gguf -y\n",
        "!pip cache purge\n",
        "!rm -rf NSFW_13B_sft llama.cpp"
      ]
    },
    {
      "cell_type": "code",
      "execution_count": null,
      "metadata": {
        "id": "aXF9nZXV5vv1"
      },
      "outputs": [],
      "source": [
        "# prepare for CPU\n",
        "!wget -O- https://apt.repos.intel.com/intel-gpg-keys/GPG-PUB-KEY-INTEL-SW-PRODUCTS.PUB | gpg --dearmor | sudo tee /usr/share/keyrings/oneapi-archive-keyring.gpg > /dev/null\n",
        "!echo \"deb [signed-by=/usr/share/keyrings/oneapi-archive-keyring.gpg] https://apt.repos.intel.com/oneapi all main\" | sudo tee /etc/apt/sources.list.d/oneAPI.list\n",
        "!sudo apt-get update\n",
        "!sudo apt-get upgrade -y\n",
        "!sudo apt-get install intel-oneapi-mkl -y"
      ]
    },
    {
      "cell_type": "code",
      "execution_count": null,
      "metadata": {
        "id": "b2bDPao1jam1"
      },
      "outputs": [],
      "source": [
        "# get compile result (CPU)\n",
        "!aria2c -c -x16 https://github.com/MZWNET/actions/releases/download/llama_cpp-b2352/llama-b2352-bin-linux-avx2-intel-mkl-x64.zip\n",
        "!mkdir -p llama.cpp-bin\n",
        "!unzip llama-b2352-bin-linux-avx2-intel-mkl-x64.zip -d llama.cpp-bin\n",
        "!mv -f llama.cpp-bin/main .\n",
        "!mv -f llama.cpp-bin/quantize .\n",
        "!rm -rf llama.cpp-bin llama-b2352-bin-linux-avx2-intel-mkl-x64.zip"
      ]
    },
    {
      "cell_type": "code",
      "execution_count": null,
      "metadata": {
        "id": "1QLXZbjO6Hde"
      },
      "outputs": [],
      "source": [
        "# prepare for GPU\n",
        "!sudo apt-get install nvidia-cuda-toolkit -y"
      ]
    },
    {
      "cell_type": "code",
      "execution_count": null,
      "metadata": {
        "id": "NVboRtai6Kgx"
      },
      "outputs": [],
      "source": [
        "# get compile result (GPU)\n",
        "!sudo apt install aria2 -y\n",
        "!aria2c -c -x16 https://github.com/MZWNET/actions/releases/download/llama_cpp-b2352/llama-b2352-bin-linux-avx2-cublas-cu121-x64.zip\n",
        "!mkdir -p llama.cpp-bin\n",
        "!unzip llama-b2352-bin-linux-avx2-cublas-cu121-x64.zip -d llama.cpp-bin\n",
        "!mv -f llama.cpp-bin/main .\n",
        "!mv -f llama.cpp-bin/quantize .\n",
        "!rm -rf llama.cpp-bin llama-b2352-bin-linux-avx2-cublas-cu121-x64.zip"
      ]
    },
    {
      "cell_type": "code",
      "execution_count": null,
      "metadata": {
        "id": "7AdSBJlEPNyo"
      },
      "outputs": [],
      "source": [
        "# quantize\n",
        "import concurrent.futures\n",
        "import os\n",
        "from tqdm import tqdm\n",
        "\n",
        "parameters = [ \"Q8_0\", \"Q6_K\", \"Q5_K_M\", \"Q5_K_S\", \"Q5_0\", \"Q4_K_M\", \"Q4_K_S\", \"Q4_0\", \"Q3_K_L\", \"Q3_K_M\", \"Q3_K_S\", \"Q2_K\" ]\n",
        "\n",
        "def run_command(param):\n",
        "    os.system(f\"cd NSFW_13B_sft-GGUF/ && ../quantize NSFW_13B_sft.F16.gguf NSFW_13B_sft.{param}.gguf {param}\")\n",
        "\n",
        "with concurrent.futures.ThreadPoolExecutor(max_workers=5) as executor:\n",
        "    list(tqdm(executor.map(run_command, parameters), total=len(parameters)))"
      ]
    },
    {
      "cell_type": "code",
      "execution_count": null,
      "metadata": {
        "id": "MY3wgOV464o3"
      },
      "outputs": [],
      "source": [
        "# http upload\n",
        "import concurrent.futures\n",
        "from huggingface_hub import HfApi, create_repo\n",
        "\n",
        "# create repo\n",
        "create_repo(\"mzwing/NSFW_13B_sft-GGUF\")\n",
        "\n",
        "api = HfApi()\n",
        "\n",
        "parameters = [ \"F32\", \"F16\", \"Q8_0\", \"Q6_K\", \"Q5_K_M\", \"Q5_K_S\", \"Q5_0\", \"Q4_K_M\", \"Q4_K_S\", \"Q4_0\", \"Q3_K_L\", \"Q3_K_M\", \"Q3_K_S\", \"Q2_K\" ]\n",
        "\n",
        "def upload(params):\n",
        "    api.upload_file(\n",
        "        path_or_fileobj=f\"NSFW_13B_sft-GGUF/NSFW_13B_sft.{params}.gguf\",\n",
        "        path_in_repo=f\"NSFW_13B_sft.{params}.gguf\",\n",
        "        repo_id=\"mzwing/NSFW_13B_sft-GGUF\",\n",
        "    )\n",
        "\n",
        "with concurrent.futures.ThreadPoolExecutor(max_workers=4) as executor:\n",
        "    # Directly consume the iterator to ensure all futures are executed\n",
        "    list(executor.map(upload, parameters))"
      ]
    },
    {
      "cell_type": "code",
      "execution_count": null,
      "metadata": {
        "id": "0ACGMjAC6aki"
      },
      "outputs": [],
      "source": [
        "# test\n",
        "!./main -ngl 33 -m NSFW_13B_sft-GGUF/NSFW_13B_sft.Q2_K.gguf --color --temp 0.7 --repeat_penalty 1.1 -n -1 -p \"System: A chat between a curious human and an artificial intelligence assistant. The assistant gives helpful, detailed, and polite answers to the human's questions.\\nHuman: {prompt}\\nAssistant:Hi! What can I help you?\\nHuman: \"\n",
        "!rm -rf main.log"
      ]
    },
    {
      "cell_type": "code",
      "execution_count": null,
      "metadata": {
        "id": "lMPDqJ56PfLH"
      },
      "outputs": [],
      "source": [
        "# git merge history\n",
        "!git config --global credential.helper store\n",
        "!huggingface-cli login\n",
        "!git config --global user.email 'mzwing@mzwing.eu.org'\n",
        "!git config --global user.name 'mzwing'\n",
        "!rm -rf NSFW_13B_sft-GGUF/\n",
        "!GIT_LFS_SKIP_SMUDGE=1 git clone https://huggingface.co/mzwing/NSFW_13B_sft-GGUF\n",
        "!cd NSFW_13B_sft-GGUF && git lfs install\n",
        "!huggingface-cli lfs-enable-largefiles NSFW_13B_sft-GGUF/\n",
        "!cd NSFW_13B_sft-GGUF/ && git branch backup-main\n",
        "!cd NSFW_13B_sft-GGUF/ && git checkout --orphan new-main\n",
        "!cd NSFW_13B_sft-GGUF/ && git add -A\n",
        "!cd NSFW_13B_sft-GGUF/ && git commit -m \"GGUF model commit (made with llama.cpp commit 26d6076)\"\n",
        "!cd NSFW_13B_sft-GGUF/ && git branch -D main\n",
        "!cd NSFW_13B_sft-GGUF/ && git branch -m main\n",
        "!cd NSFW_13B_sft-GGUF/ && git push -f origin main"
      ]
    }
  ],
  "metadata": {
    "colab": {
      "provenance": [],
      "gpuType": "T4",
      "include_colab_link": true
    },
    "kernelspec": {
      "display_name": "Python 3",
      "name": "python3"
    },
    "language_info": {
      "name": "python"
    },
    "accelerator": "GPU"
  },
  "nbformat": 4,
  "nbformat_minor": 0
}